{
 "cells": [
  {
   "cell_type": "code",
   "execution_count": 1,
   "id": "d97a1401",
   "metadata": {},
   "outputs": [
    {
     "name": "stdout",
     "output_type": "stream",
     "text": [
      "Requirement already satisfied: deep-translator in c:\\users\\siddh\\appdata\\local\\programs\\python\\python313\\lib\\site-packages (1.11.4)\n",
      "Requirement already satisfied: beautifulsoup4<5.0.0,>=4.9.1 in c:\\users\\siddh\\appdata\\local\\programs\\python\\python313\\lib\\site-packages (from deep-translator) (4.13.3)\n",
      "Requirement already satisfied: requests<3.0.0,>=2.23.0 in c:\\users\\siddh\\appdata\\local\\programs\\python\\python313\\lib\\site-packages (from deep-translator) (2.32.3)\n",
      "Requirement already satisfied: soupsieve>1.2 in c:\\users\\siddh\\appdata\\local\\programs\\python\\python313\\lib\\site-packages (from beautifulsoup4<5.0.0,>=4.9.1->deep-translator) (2.6)\n",
      "Requirement already satisfied: typing-extensions>=4.0.0 in c:\\users\\siddh\\appdata\\local\\programs\\python\\python313\\lib\\site-packages (from beautifulsoup4<5.0.0,>=4.9.1->deep-translator) (4.12.2)\n",
      "Requirement already satisfied: charset-normalizer<4,>=2 in c:\\users\\siddh\\appdata\\local\\programs\\python\\python313\\lib\\site-packages (from requests<3.0.0,>=2.23.0->deep-translator) (3.4.1)\n",
      "Requirement already satisfied: idna<4,>=2.5 in c:\\users\\siddh\\appdata\\local\\programs\\python\\python313\\lib\\site-packages (from requests<3.0.0,>=2.23.0->deep-translator) (3.10)\n",
      "Requirement already satisfied: urllib3<3,>=1.21.1 in c:\\users\\siddh\\appdata\\local\\programs\\python\\python313\\lib\\site-packages (from requests<3.0.0,>=2.23.0->deep-translator) (2.3.0)\n",
      "Requirement already satisfied: certifi>=2017.4.17 in c:\\users\\siddh\\appdata\\local\\programs\\python\\python313\\lib\\site-packages (from requests<3.0.0,>=2.23.0->deep-translator) (2025.1.31)\n",
      "Note: you may need to restart the kernel to use updated packages.\n"
     ]
    }
   ],
   "source": [
    "pip install deep-translator\n"
   ]
  },
  {
   "cell_type": "code",
   "execution_count": 1,
   "id": "ebd68391",
   "metadata": {},
   "outputs": [],
   "source": [
    "from tkinter import *\n",
    "from tkinter import ttk\n",
    "from deep_translator import GoogleTranslator\n",
    "\n",
    "root = Tk()\n",
    "root.geometry('1080x400')\n",
    "root.resizable(0, 0)\n",
    "root.config(bg='white smoke')\n",
    "root.title(\"Language Translator\")\n",
    "\n",
    "# Heading\n",
    "Label(root, text=\"LANGUAGE TRANSLATOR\", font=\"arial 20 bold\", bg='white smoke').pack()\n",
    "Label(root, text=\"Project\", font='arial 20 bold', bg='white smoke', width='20').pack(side='bottom')\n",
    "\n",
    "# Input and Output Text Widget\n",
    "Label(root, text=\"Enter Text\", font='arial 13 bold', bg='white smoke').place(x=200, y=60)\n",
    "Input_text = Text(root, font='arial 10', height=11, wrap=WORD, padx=5, pady=5, width=60)\n",
    "Input_text.place(x=30, y=100)\n",
    "\n",
    "Label(root, text=\"Output\", font='arial 13 bold', bg='white smoke').place(x=780, y=60)\n",
    "Output_text = Text(root, font='arial 10', height=11, wrap=WORD, padx=5, pady=5, width=60)\n",
    "Output_text.place(x=600, y=100)\n",
    "\n",
    "# Languages dropdown\n",
    "from deep_translator.constants import GOOGLE_LANGUAGES_TO_CODES\n",
    "\n",
    "language = list(GOOGLE_LANGUAGES_TO_CODES.keys())\n",
    "\n",
    "src_lang = ttk.Combobox(root, values=language, width=22)\n",
    "src_lang.place(x=20, y=60)\n",
    "src_lang.set('choose input language')\n",
    "\n",
    "dest_lang = ttk.Combobox(root, values=language, width=22)\n",
    "dest_lang.place(x=890, y=60)\n",
    "dest_lang.set('choose output language')\n",
    "\n",
    "# Define the translation function        \n",
    "def Translate():\n",
    "    try:\n",
    "        src = GOOGLE_LANGUAGES_TO_CODES.get(src_lang.get().lower())\n",
    "        dest = GOOGLE_LANGUAGES_TO_CODES.get(dest_lang.get().lower())\n",
    "        \n",
    "        if src and dest:\n",
    "            translated = GoogleTranslator(source=src, target=dest).translate(text=Input_text.get(1.0, END))\n",
    "            Output_text.delete(1.0, END)\n",
    "            Output_text.insert(END, translated)\n",
    "        else:\n",
    "            Output_text.delete(1.0, END)\n",
    "            Output_text.insert(END, \"Error: Invalid language selection.\")\n",
    "    except Exception as e:\n",
    "        Output_text.delete(1.0, END)\n",
    "        Output_text.insert(END, f\"Error: {e}\")\n",
    "\n",
    "# Translate Button\n",
    "trans_btn = Button(root, text='Translate', font='arial 12 bold', pady=5, command=Translate, bg='royal blue1', activebackground='sky blue')\n",
    "trans_btn.place(x=490, y=180)\n",
    "\n",
    "\n",
    "root.mainloop()"
   ]
  },
  {
   "cell_type": "code",
   "execution_count": null,
   "id": "23c18d16",
   "metadata": {},
   "outputs": [],
   "source": []
  }
 ],
 "metadata": {
  "kernelspec": {
   "display_name": "Python 3",
   "language": "python",
   "name": "python3"
  },
  "language_info": {
   "codemirror_mode": {
    "name": "ipython",
    "version": 3
   },
   "file_extension": ".py",
   "mimetype": "text/x-python",
   "name": "python",
   "nbconvert_exporter": "python",
   "pygments_lexer": "ipython3",
   "version": "3.13.4"
  }
 },
 "nbformat": 4,
 "nbformat_minor": 5
}
